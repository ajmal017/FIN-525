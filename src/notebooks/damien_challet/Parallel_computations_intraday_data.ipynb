{
 "cells": [
  {
   "cell_type": "markdown",
   "metadata": {},
   "source": [
    "# Parallel computations: dask"
   ]
  },
  {
   "cell_type": "code",
   "execution_count": 1,
   "metadata": {},
   "outputs": [],
   "source": [
    "import pandas as pd\n",
    "import numpy as np\n",
    "\n",
    "import glob\n",
    "\n",
    "allfiles_trade=glob.glob(\"data/raw/TRTH/equities/US/2010/trade/AAPL.OQ/*\")\n",
    "allfiles_bbo=glob.glob(\"data/raw/TRTH/equities/US/2010/bbo/AAPL.OQ/*\")"
   ]
  },
  {
   "cell_type": "code",
   "execution_count": 2,
   "metadata": {},
   "outputs": [],
   "source": [
    "allfiles_trade=np.sort(allfiles_trade)[:100]\n",
    "allfiles_bbo=np.sort(allfiles_bbo[:100])"
   ]
  },
  {
   "cell_type": "markdown",
   "metadata": {},
   "source": [
    "### Dask in practice"
   ]
  },
  {
   "cell_type": "code",
   "execution_count": 3,
   "metadata": {},
   "outputs": [],
   "source": [
    "import dask\n",
    "dask.config.set(scheduler=\"processes\")\n",
    "\n",
    "@dask.delayed\n",
    "def load_TRTH_trade(filename,\n",
    "             tz_exchange=\"America/New_York\",\n",
    "             only_non_special_trades=True,\n",
    "             only_regular_trading_hours=True,\n",
    "             open_time=\"09:30:00\",\n",
    "             close_time=\"16:00:00\",\n",
    "             merge_sub_trades=True):\n",
    "   \n",
    "    try:\n",
    "        DF = pd.read_csv(filename)\n",
    "    except:\n",
    "        return None\n",
    "    \n",
    "    if DF.shape[0] ==0:\n",
    "        return None\n",
    "    \n",
    "    \n",
    "    \n",
    "    if only_non_special_trades:\n",
    "        DF = DF[DF[\"trade-stringflag\"]==\"uncategorized\"]\n",
    "\n",
    "    DF.drop(columns=[\"trade-rawflag\",\"trade-stringflag\"],axis=1,inplace=True)\n",
    "    \n",
    "    DF.index = pd.to_datetime(DF[\"xltime\"],unit=\"d\",origin=\"1899-12-30\",utc=True)\n",
    "    DF.index = DF.index.tz_convert(tz_exchange)  # .P stands for Arca, which is based at New York\n",
    "    DF.drop(columns=\"xltime\",inplace=True)\n",
    "    \n",
    "    if only_regular_trading_hours:\n",
    "        DF=DF.between_time(open_time,close_time)    # warning: ever heard e.g. about Thanksgivings?\n",
    "    \n",
    "    if merge_sub_trades:\n",
    "           DF=DF.groupby(DF.index).agg(trade_price=pd.NamedAgg(column='trade-price', aggfunc='mean'),\n",
    "                                       trade_volume=pd.NamedAgg(column='trade-volume', aggfunc='sum'))\n",
    "    \n",
    "    return DF\n",
    "\n",
    "\n",
    "@dask.delayed\n",
    "def load_TRTH_bbo(filename,\n",
    "             tz_exchange=\"America/New_York\",\n",
    "             open_time=\"09:30:00\",\n",
    "             close_time=\"16:00:00\",\n",
    "             only_regular_trading_hours=True):\n",
    "    \n",
    "        \n",
    "    try:\n",
    "        DF = pd.read_csv(filename)\n",
    "    except:\n",
    "        return None\n",
    "    \n",
    "    if DF.shape[0] ==0:\n",
    "        return None\n",
    "    \n",
    "    DF.index = pd.to_datetime(DF[\"xltime\"],unit=\"d\",origin=\"1899-12-30\",utc=True)\n",
    "    DF.index = DF.index.tz_convert(tz_exchange)  # .P stands for Arca, which is based at New York\n",
    "    DF.drop(columns=\"xltime\",inplace=True)\n",
    "    \n",
    "    if only_regular_trading_hours:\n",
    "        DF=DF.between_time(open_time,close_time)    # warning: ever heard e.g. about Thanksgivings?\n",
    "        \n",
    "    return DF"
   ]
  },
  {
   "cell_type": "code",
   "execution_count": 4,
   "metadata": {},
   "outputs": [],
   "source": [
    "allpromises_trade=[load_TRTH_trade(fn) for fn in allfiles_trade]    # this takes not time at all\n",
    "allpromises_bbo=[load_TRTH_bbo(fn) for fn in allfiles_bbo]"
   ]
  },
  {
   "cell_type": "code",
   "execution_count": 5,
   "metadata": {},
   "outputs": [],
   "source": [
    "alltrades=dask.compute(allpromises_trade)[0]                 # now the computations take place. Monitor your CPU !\n",
    "allbbos=dask.compute(allpromises_bbo)[0]                 # now the computations take place. Monitor your CPU !"
   ]
  },
  {
   "cell_type": "code",
   "execution_count": 6,
   "metadata": {},
   "outputs": [],
   "source": [
    "alltrades=pd.concat(alltrades)\n",
    "allbbos=pd.concat(allbbos)"
   ]
  },
  {
   "cell_type": "code",
   "execution_count": 7,
   "metadata": {},
   "outputs": [],
   "source": [
    "allevents=alltrades.join(allbbos,how='inner')"
   ]
  },
  {
   "cell_type": "code",
   "execution_count": 170,
   "metadata": {},
   "outputs": [
    {
     "data": {
      "text/html": [
       "<div>\n",
       "<style scoped>\n",
       "    .dataframe tbody tr th:only-of-type {\n",
       "        vertical-align: middle;\n",
       "    }\n",
       "\n",
       "    .dataframe tbody tr th {\n",
       "        vertical-align: top;\n",
       "    }\n",
       "\n",
       "    .dataframe thead th {\n",
       "        text-align: right;\n",
       "    }\n",
       "</style>\n",
       "<table border=\"1\" class=\"dataframe\">\n",
       "  <thead>\n",
       "    <tr style=\"text-align: right;\">\n",
       "      <th></th>\n",
       "      <th>trade_price</th>\n",
       "      <th>trade_volume</th>\n",
       "      <th>bid-price</th>\n",
       "      <th>bid-volume</th>\n",
       "      <th>ask-price</th>\n",
       "      <th>ask-volume</th>\n",
       "    </tr>\n",
       "    <tr>\n",
       "      <th>xltime</th>\n",
       "      <th></th>\n",
       "      <th></th>\n",
       "      <th></th>\n",
       "      <th></th>\n",
       "      <th></th>\n",
       "      <th></th>\n",
       "    </tr>\n",
       "  </thead>\n",
       "  <tbody>\n",
       "    <tr>\n",
       "      <th>2010-01-04 09:30:00.000979200-05:00</th>\n",
       "      <td>NaN</td>\n",
       "      <td>NaN</td>\n",
       "      <td>213.27</td>\n",
       "      <td>1.0</td>\n",
       "      <td>213.41</td>\n",
       "      <td>1.0</td>\n",
       "    </tr>\n",
       "    <tr>\n",
       "      <th>2010-01-04 09:30:00.000979200-05:00</th>\n",
       "      <td>NaN</td>\n",
       "      <td>NaN</td>\n",
       "      <td>213.27</td>\n",
       "      <td>1.0</td>\n",
       "      <td>213.42</td>\n",
       "      <td>1.0</td>\n",
       "    </tr>\n",
       "    <tr>\n",
       "      <th>2010-01-04 09:30:00.000979200-05:00</th>\n",
       "      <td>NaN</td>\n",
       "      <td>NaN</td>\n",
       "      <td>213.29</td>\n",
       "      <td>1.0</td>\n",
       "      <td>213.42</td>\n",
       "      <td>1.0</td>\n",
       "    </tr>\n",
       "    <tr>\n",
       "      <th>2010-01-04 09:30:00.000979200-05:00</th>\n",
       "      <td>NaN</td>\n",
       "      <td>NaN</td>\n",
       "      <td>213.29</td>\n",
       "      <td>1.0</td>\n",
       "      <td>213.42</td>\n",
       "      <td>2.0</td>\n",
       "    </tr>\n",
       "    <tr>\n",
       "      <th>2010-01-04 09:30:00.000979200-05:00</th>\n",
       "      <td>NaN</td>\n",
       "      <td>NaN</td>\n",
       "      <td>213.29</td>\n",
       "      <td>1.0</td>\n",
       "      <td>213.42</td>\n",
       "      <td>1.0</td>\n",
       "    </tr>\n",
       "    <tr>\n",
       "      <th>...</th>\n",
       "      <td>...</td>\n",
       "      <td>...</td>\n",
       "      <td>...</td>\n",
       "      <td>...</td>\n",
       "      <td>...</td>\n",
       "      <td>...</td>\n",
       "    </tr>\n",
       "    <tr>\n",
       "      <th>2010-12-31 15:59:59.733974400-05:00</th>\n",
       "      <td>237.57</td>\n",
       "      <td>800.0</td>\n",
       "      <td>322.48</td>\n",
       "      <td>24.0</td>\n",
       "      <td>322.49</td>\n",
       "      <td>26.0</td>\n",
       "    </tr>\n",
       "    <tr>\n",
       "      <th>2010-12-31 15:59:59.787024-05:00</th>\n",
       "      <td>237.57</td>\n",
       "      <td>800.0</td>\n",
       "      <td>322.48</td>\n",
       "      <td>24.0</td>\n",
       "      <td>322.49</td>\n",
       "      <td>16.0</td>\n",
       "    </tr>\n",
       "    <tr>\n",
       "      <th>2010-12-31 15:59:59.799033600-05:00</th>\n",
       "      <td>237.57</td>\n",
       "      <td>800.0</td>\n",
       "      <td>322.48</td>\n",
       "      <td>24.0</td>\n",
       "      <td>322.49</td>\n",
       "      <td>10.0</td>\n",
       "    </tr>\n",
       "    <tr>\n",
       "      <th>2010-12-31 15:59:59.799033600-05:00</th>\n",
       "      <td>237.57</td>\n",
       "      <td>800.0</td>\n",
       "      <td>322.48</td>\n",
       "      <td>24.0</td>\n",
       "      <td>322.66</td>\n",
       "      <td>41.0</td>\n",
       "    </tr>\n",
       "    <tr>\n",
       "      <th>2010-12-31 15:59:59.834025600-05:00</th>\n",
       "      <td>237.57</td>\n",
       "      <td>800.0</td>\n",
       "      <td>322.48</td>\n",
       "      <td>24.0</td>\n",
       "      <td>322.57</td>\n",
       "      <td>1.0</td>\n",
       "    </tr>\n",
       "  </tbody>\n",
       "</table>\n",
       "<p>39057667 rows × 6 columns</p>\n",
       "</div>"
      ],
      "text/plain": [
       "                                     trade_price  trade_volume  bid-price  \\\n",
       "xltime                                                                      \n",
       "2010-01-04 09:30:00.000979200-05:00          NaN           NaN     213.27   \n",
       "2010-01-04 09:30:00.000979200-05:00          NaN           NaN     213.27   \n",
       "2010-01-04 09:30:00.000979200-05:00          NaN           NaN     213.29   \n",
       "2010-01-04 09:30:00.000979200-05:00          NaN           NaN     213.29   \n",
       "2010-01-04 09:30:00.000979200-05:00          NaN           NaN     213.29   \n",
       "...                                          ...           ...        ...   \n",
       "2010-12-31 15:59:59.733974400-05:00       237.57         800.0     322.48   \n",
       "2010-12-31 15:59:59.787024-05:00          237.57         800.0     322.48   \n",
       "2010-12-31 15:59:59.799033600-05:00       237.57         800.0     322.48   \n",
       "2010-12-31 15:59:59.799033600-05:00       237.57         800.0     322.48   \n",
       "2010-12-31 15:59:59.834025600-05:00       237.57         800.0     322.48   \n",
       "\n",
       "                                     bid-volume  ask-price  ask-volume  \n",
       "xltime                                                                  \n",
       "2010-01-04 09:30:00.000979200-05:00         1.0     213.41         1.0  \n",
       "2010-01-04 09:30:00.000979200-05:00         1.0     213.42         1.0  \n",
       "2010-01-04 09:30:00.000979200-05:00         1.0     213.42         1.0  \n",
       "2010-01-04 09:30:00.000979200-05:00         1.0     213.42         2.0  \n",
       "2010-01-04 09:30:00.000979200-05:00         1.0     213.42         1.0  \n",
       "...                                         ...        ...         ...  \n",
       "2010-12-31 15:59:59.733974400-05:00        24.0     322.49        26.0  \n",
       "2010-12-31 15:59:59.787024-05:00           24.0     322.49        16.0  \n",
       "2010-12-31 15:59:59.799033600-05:00        24.0     322.49        10.0  \n",
       "2010-12-31 15:59:59.799033600-05:00        24.0     322.66        41.0  \n",
       "2010-12-31 15:59:59.834025600-05:00        24.0     322.57         1.0  \n",
       "\n",
       "[39057667 rows x 6 columns]"
      ]
     },
     "execution_count": 170,
     "metadata": {},
     "output_type": "execute_result"
    }
   ],
   "source": [
    "allevents.ffill(inplace=True)\n",
    "allevents"
   ]
  },
  {
   "cell_type": "code",
   "execution_count": 120,
   "metadata": {},
   "outputs": [
    {
     "data": {
      "text/plain": [
       "534.3092017173767"
      ]
     },
     "execution_count": 120,
     "metadata": {},
     "output_type": "execute_result"
    }
   ],
   "source": [
    "import time\n",
    "\n",
    "t0=time.time()\n",
    "allevents.to_csv('allevents.csv.gz')\n",
    "t1=time.time()\n",
    "t1-t0"
   ]
  },
  {
   "cell_type": "code",
   "execution_count": 9,
   "metadata": {},
   "outputs": [
    {
     "data": {
      "text/plain": [
       "0.6316018104553223"
      ]
     },
     "execution_count": 9,
     "metadata": {},
     "output_type": "execute_result"
    }
   ],
   "source": [
    "import time\n",
    "t0=time.time()\n",
    "allevents.to_parquet(\"allevents.parquet\",allow_truncated_timestamps=True)\n",
    "t1=time.time()\n",
    "t1-t0"
   ]
  },
  {
   "cell_type": "code",
   "execution_count": 25,
   "metadata": {},
   "outputs": [
    {
     "data": {
      "text/plain": [
       "0.04172182083129883"
      ]
     },
     "execution_count": 25,
     "metadata": {},
     "output_type": "execute_result"
    }
   ],
   "source": [
    "import pyarrow as pa   # penalty to convert the DataFrame to arrow RAM representation \n",
    "t0=time.time()\n",
    "pa.Table.from_pandas(allevents)\n",
    "t1=time.time()\n",
    "t1-t0"
   ]
  },
  {
   "cell_type": "code",
   "execution_count": 171,
   "metadata": {},
   "outputs": [],
   "source": []
  },
  {
   "cell_type": "code",
   "execution_count": 174,
   "metadata": {},
   "outputs": [],
   "source": [
    "\n",
    "alltrades[\"5min\"]=(alltrades.index.hour*60+alltrades.index.minute)//5\n",
    "numtrades_5min=alltrades[\"5min\"].value_counts()"
   ]
  },
  {
   "cell_type": "code",
   "execution_count": 176,
   "metadata": {},
   "outputs": [
    {
     "data": {
      "text/plain": [
       "<matplotlib.collections.PathCollection at 0x7f77f867d610>"
      ]
     },
     "execution_count": 176,
     "metadata": {},
     "output_type": "execute_result"
    },
    {
     "data": {
      "image/png": "[encoded data removed]",
      "text/plain": [
       "<Figure size 432x288 with 1 Axes>"
      ]
     },
     "metadata": {
      "needs_background": "light"
     },
     "output_type": "display_data"
    }
   ],
   "source": [
    "import matplotlib.pyplot as plt\n",
    "plt.scatter(numtrades_5min.index*5/60,numtrades_5min.values)"
   ]
  },
  {
   "cell_type": "code",
   "execution_count": 10,
   "metadata": {},
   "outputs": [],
   "source": [
    "allevents[\"s\"]=2*((allevents[\"ask-price\"]-allevents[\"trade_price\"])>(allevents[\"trade_price\"]-allevents[\"bid-price\"]))-1"
   ]
  },
  {
   "cell_type": "code",
   "execution_count": 23,
   "metadata": {},
   "outputs": [],
   "source": [
    "# s is too long for the usual auto-correlation functions (complexity O(N^2)). \n",
    "# One should use Fast Fourier Transforms instead\n",
    "# source: https://dsp.stackexchange.com/questions/54924/autocorrelation-numpy-versus-fft\n",
    "# exercise: show that the auto-correlation can be obtained from the power spectrum\n",
    "\n",
    "s = allevents[\"s\"].values\n",
    "s = np.concatenate((s,np.zeros(len(s)-1))) # added zeros to your signal\n",
    "A = np.fft.fft(s)\n",
    "S = np.conj(A)*A\n",
    "c_fourier = np.fft.ifft(S)\n",
    "c_fast = c_fourier[:(c_fourier.size//2)+1]/len(s)"
   ]
  },
  {
   "cell_type": "code",
   "execution_count": 24,
   "metadata": {},
   "outputs": [
    {
     "name": "stderr",
     "output_type": "stream",
     "text": [
      "/home/damien/.local/lib/python3.7/site-packages/numpy/core/_asarray.py:83: ComplexWarning: Casting complex values to real discards the imaginary part\n",
      "  return array(a, dtype, copy=False, order=order)\n"
     ]
    },
    {
     "data": {
      "image/png": "[encoded data removed]",
      "text/plain": [
       "<Figure size 432x288 with 1 Axes>"
      ]
     },
     "metadata": {
      "needs_background": "light"
     },
     "output_type": "display_data"
    }
   ],
   "source": [
    "import matplotlib.pyplot as plt\n",
    "plt.plot(c_fast[:10000,])\n",
    "plt.xscale(\"log\")\n",
    "plt.yscale(\"log\")"
   ]
  },
  {
   "cell_type": "code",
   "execution_count": null,
   "metadata": {},
   "outputs": [],
   "source": []
  }
 ],
 "metadata": {
  "kernelspec": {
   "display_name": "Python 3",
   "language": "python",
   "name": "python3"
  },
  "language_info": {
   "codemirror_mode": {
    "name": "ipython",
    "version": 3
   },
   "file_extension": ".py",
   "mimetype": "text/x-python",
   "name": "python",
   "nbconvert_exporter": "python",
   "pygments_lexer": "ipython3",
   "version": "3.8.5"
  }
 },
 "nbformat": 4,
 "nbformat_minor": 4
}
