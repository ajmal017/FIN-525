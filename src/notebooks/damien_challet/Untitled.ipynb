{
 "cells": [
  {
   "cell_type": "code",
   "execution_count": 1,
   "metadata": {},
   "outputs": [
    {
     "name": "stdout",
     "output_type": "stream",
     "text": [
      "2020-05-31T17:10:21\n"
     ]
    }
   ],
   "source": [
    "import os\n",
    "import pandas as pd\n",
    "from datetime import datetime, timedelta\n",
    "import joblib\n",
    "DATA_PATH = \"C:\\Projects\\FIN-525\\data\"\n",
    "\n",
    "def microsoft_to_iso8601(microsoft, paralelize=True):\n",
    "    base_date = datetime(1899, 12, 31)\n",
    "    if isinstance(microsoft, pd.Series):\n",
    "        if paralelize:\n",
    "            def custom_work(date):\n",
    "                return (base_date + timedelta(days=date)).isoformat()\n",
    "            cpu_cores = os.cpu_count() - 2 \n",
    "            ret_date = joblib.Parallel(n_jobs=cpu_cores)(joblib.delayed(custom_work)(date) for date in microsoft)\n",
    "        else:\n",
    "            ret_date = [(base_date + timedelta(days=date)).isoformat() for date in microsoft]\n",
    "    else:\n",
    "        ret_date = (base_date + timedelta(days=microsoft)).isoformat()\n",
    "    return ret_date\n",
    "\n",
    "print(microsoft_to_iso8601(43981.7155208333350))\n",
    "# returns 2020-05-31T17:10:21"
   ]
  },
  {
   "cell_type": "code",
   "execution_count": 2,
   "metadata": {},
   "outputs": [
    {
     "data": {
      "text/plain": [
       "['us_equities.csv.gz']"
      ]
     },
     "execution_count": 2,
     "metadata": {},
     "output_type": "execute_result"
    }
   ],
   "source": [
    "os.listdir(os.path.join(DATA_PATH, 'daily'))"
   ]
  },
  {
   "cell_type": "markdown",
   "metadata": {},
   "source": [
    "## Daily data"
   ]
  },
  {
   "cell_type": "code",
   "execution_count": 3,
   "metadata": {},
   "outputs": [],
   "source": [
    "def load_daily(path=DATA_PATH):\n",
    "    daily_path = os.path.join(DATA_PATH, 'daily')\n",
    "    file_name = os.listdir(daily_path)[0]\n",
    "    df = pd.read_csv(os.path.join(daily_path, file_name), compression='gzip', \n",
    "                         header=0, sep=',', quotechar='\"')\n",
    "    return df"
   ]
  },
  {
   "cell_type": "code",
   "execution_count": 4,
   "metadata": {},
   "outputs": [],
   "source": [
    "daily_df = load_daily()"
   ]
  },
  {
   "cell_type": "code",
   "execution_count": 5,
   "metadata": {},
   "outputs": [
    {
     "data": {
      "text/plain": [
       "<AxesSubplot:>"
      ]
     },
     "execution_count": 5,
     "metadata": {},
     "output_type": "execute_result"
    },
    {
     "data": {
      "image/png": "[encoded data removed]",
      "text/plain": [
       "<Figure size 432x288 with 1 Axes>"
      ]
     },
     "metadata": {
      "needs_background": "light"
     },
     "output_type": "display_data"
    }
   ],
   "source": [
    "daily_df['^GSPC'].plot()"
   ]
  },
  {
   "cell_type": "markdown",
   "metadata": {},
   "source": [
    "## HFT Data"
   ]
  },
  {
   "cell_type": "code",
   "execution_count": 6,
   "metadata": {},
   "outputs": [],
   "source": [
    "sym_spy = 'SPY.P'\n",
    "def load_hft(symbol, style, path=DATA_PATH, parallel=True):\n",
    "    bbo_path = os.path.join(DATA_PATH, 'intraday', 'equities', 'US', 'bbo', symbol)\n",
    "    trade_path = os.path.join(DATA_PATH, 'intraday', 'equities', 'US', 'trade', symbol)\n",
    "    file = os.listdir(bbo_path)[0]\n",
    "    if style == 'bbo':\n",
    "        df = pd.read_csv(os.path.join(bbo_path, file), compression='gzip', \n",
    "                             header=0, sep=',', quotechar='\"')\n",
    "    if style == 'trade':\n",
    "        df = pd.read_csv(os.path.join(bbo_path, file), compression='gzip', \n",
    "                             header=0, sep=',', quotechar='\"')\n",
    "        \n",
    "    df['xltime'] = microsoft_to_iso8601(df['xltime'], parallel)\n",
    "    return df"
   ]
  },
  {
   "cell_type": "code",
   "execution_count": 7,
   "metadata": {},
   "outputs": [],
   "source": [
    "spy_bbo = load_hft(sym_spy, 'bbo', parallel=True)"
   ]
  },
  {
   "cell_type": "code",
   "execution_count": 8,
   "metadata": {},
   "outputs": [],
   "source": [
    "spy_trade = load_hft(sym_spy, 'trade', parallel=True)"
   ]
  },
  {
   "cell_type": "code",
   "execution_count": 13,
   "metadata": {},
   "outputs": [
    {
     "data": {
      "text/plain": [
       "'C:\\\\Projects\\\\FIN-525\\\\data\\\\intraday\\\\equities\\\\US\\\\bbo\\\\SPY.P'"
      ]
     },
     "execution_count": 13,
     "metadata": {},
     "output_type": "execute_result"
    }
   ],
   "source": [
    "os.path.join(DATA_PATH, 'intraday', 'equities', 'US', 'bbo', sym_spy)"
   ]
  },
  {
   "cell_type": "code",
   "execution_count": 10,
   "metadata": {},
   "outputs": [
    {
     "data": {
      "text/html": [
       "<div>\n",
       "<style scoped>\n",
       "    .dataframe tbody tr th:only-of-type {\n",
       "        vertical-align: middle;\n",
       "    }\n",
       "\n",
       "    .dataframe tbody tr th {\n",
       "        vertical-align: top;\n",
       "    }\n",
       "\n",
       "    .dataframe thead th {\n",
       "        text-align: right;\n",
       "    }\n",
       "</style>\n",
       "<table border=\"1\" class=\"dataframe\">\n",
       "  <thead>\n",
       "    <tr style=\"text-align: right;\">\n",
       "      <th></th>\n",
       "      <th>xltime</th>\n",
       "      <th>bid-price</th>\n",
       "      <th>bid-volume</th>\n",
       "      <th>ask-price</th>\n",
       "      <th>ask-volume</th>\n",
       "    </tr>\n",
       "  </thead>\n",
       "  <tbody>\n",
       "    <tr>\n",
       "      <th>0</th>\n",
       "      <td>2017-01-04T09:00:00.098000</td>\n",
       "      <td>218.00</td>\n",
       "      <td>5</td>\n",
       "      <td>0.00</td>\n",
       "      <td>0</td>\n",
       "    </tr>\n",
       "    <tr>\n",
       "      <th>1</th>\n",
       "      <td>2017-01-04T09:00:00.099000</td>\n",
       "      <td>218.00</td>\n",
       "      <td>5</td>\n",
       "      <td>225.88</td>\n",
       "      <td>6</td>\n",
       "    </tr>\n",
       "    <tr>\n",
       "      <th>2</th>\n",
       "      <td>2017-01-04T09:00:00.099000</td>\n",
       "      <td>224.12</td>\n",
       "      <td>8</td>\n",
       "      <td>225.88</td>\n",
       "      <td>6</td>\n",
       "    </tr>\n",
       "    <tr>\n",
       "      <th>3</th>\n",
       "      <td>2017-01-04T09:00:00.099000</td>\n",
       "      <td>224.12</td>\n",
       "      <td>8</td>\n",
       "      <td>225.23</td>\n",
       "      <td>4</td>\n",
       "    </tr>\n",
       "    <tr>\n",
       "      <th>4</th>\n",
       "      <td>2017-01-04T09:00:00.099000</td>\n",
       "      <td>224.12</td>\n",
       "      <td>8</td>\n",
       "      <td>224.97</td>\n",
       "      <td>3</td>\n",
       "    </tr>\n",
       "    <tr>\n",
       "      <th>...</th>\n",
       "      <td>...</td>\n",
       "      <td>...</td>\n",
       "      <td>...</td>\n",
       "      <td>...</td>\n",
       "      <td>...</td>\n",
       "    </tr>\n",
       "    <tr>\n",
       "      <th>990681</th>\n",
       "      <td>2017-01-05T00:59:47.381001</td>\n",
       "      <td>225.28</td>\n",
       "      <td>15</td>\n",
       "      <td>225.32</td>\n",
       "      <td>2</td>\n",
       "    </tr>\n",
       "    <tr>\n",
       "      <th>990682</th>\n",
       "      <td>2017-01-05T00:59:48.112000</td>\n",
       "      <td>225.28</td>\n",
       "      <td>12</td>\n",
       "      <td>225.32</td>\n",
       "      <td>2</td>\n",
       "    </tr>\n",
       "    <tr>\n",
       "      <th>990683</th>\n",
       "      <td>2017-01-05T00:59:49.571999</td>\n",
       "      <td>225.28</td>\n",
       "      <td>12</td>\n",
       "      <td>225.32</td>\n",
       "      <td>1</td>\n",
       "    </tr>\n",
       "    <tr>\n",
       "      <th>990684</th>\n",
       "      <td>2017-01-05T00:59:59.061999</td>\n",
       "      <td>225.27</td>\n",
       "      <td>3</td>\n",
       "      <td>225.32</td>\n",
       "      <td>1</td>\n",
       "    </tr>\n",
       "    <tr>\n",
       "      <th>990685</th>\n",
       "      <td>2017-01-05T01:00:05.983999</td>\n",
       "      <td>225.27</td>\n",
       "      <td>3</td>\n",
       "      <td>225.32</td>\n",
       "      <td>1</td>\n",
       "    </tr>\n",
       "  </tbody>\n",
       "</table>\n",
       "<p>990686 rows × 5 columns</p>\n",
       "</div>"
      ],
      "text/plain": [
       "                            xltime  bid-price  bid-volume  ask-price  \\\n",
       "0       2017-01-04T09:00:00.098000     218.00           5       0.00   \n",
       "1       2017-01-04T09:00:00.099000     218.00           5     225.88   \n",
       "2       2017-01-04T09:00:00.099000     224.12           8     225.88   \n",
       "3       2017-01-04T09:00:00.099000     224.12           8     225.23   \n",
       "4       2017-01-04T09:00:00.099000     224.12           8     224.97   \n",
       "...                            ...        ...         ...        ...   \n",
       "990681  2017-01-05T00:59:47.381001     225.28          15     225.32   \n",
       "990682  2017-01-05T00:59:48.112000     225.28          12     225.32   \n",
       "990683  2017-01-05T00:59:49.571999     225.28          12     225.32   \n",
       "990684  2017-01-05T00:59:59.061999     225.27           3     225.32   \n",
       "990685  2017-01-05T01:00:05.983999     225.27           3     225.32   \n",
       "\n",
       "        ask-volume  \n",
       "0                0  \n",
       "1                6  \n",
       "2                6  \n",
       "3                4  \n",
       "4                3  \n",
       "...            ...  \n",
       "990681           2  \n",
       "990682           2  \n",
       "990683           1  \n",
       "990684           1  \n",
       "990685           1  \n",
       "\n",
       "[990686 rows x 5 columns]"
      ]
     },
     "execution_count": 10,
     "metadata": {},
     "output_type": "execute_result"
    }
   ],
   "source": [
    "spy_trade"
   ]
  },
  {
   "cell_type": "code",
   "execution_count": null,
   "metadata": {},
   "outputs": [],
   "source": []
  }
 ],
 "metadata": {
  "kernelspec": {
   "display_name": "Python 3",
   "language": "python",
   "name": "python3"
  },
  "language_info": {
   "codemirror_mode": {
    "name": "ipython",
    "version": 3
   },
   "file_extension": ".py",
   "mimetype": "text/x-python",
   "name": "python",
   "nbconvert_exporter": "python",
   "pygments_lexer": "ipython3",
   "version": "3.8.5"
  }
 },
 "nbformat": 4,
 "nbformat_minor": 4
}
