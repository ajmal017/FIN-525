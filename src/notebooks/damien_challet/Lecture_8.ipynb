{
 "cells": [
  {
   "cell_type": "code",
   "execution_count": 15,
   "metadata": {},
   "outputs": [],
   "source": [
    "import numpy as np\n",
    "import matplotlib.pyplot as plt\n",
    "import seaborn as sns"
   ]
  },
  {
   "cell_type": "code",
   "execution_count": 144,
   "metadata": {},
   "outputs": [
    {
     "data": {
      "text/plain": [
       "[<matplotlib.lines.Line2D at 0x24ce5771490>]"
      ]
     },
     "execution_count": 144,
     "metadata": {},
     "output_type": "execute_result"
    },
    {
     "data": {
      "image/png": "[encoded data removed]",
      "text/plain": [
       "<Figure size 432x288 with 1 Axes>"
      ]
     },
     "metadata": {
      "needs_background": "light"
     },
     "output_type": "display_data"
    }
   ],
   "source": [
    "T = 375 * 50\n",
    "n = 10\n",
    "q = n/T\n",
    "synthetic_returns = np.random.normal(0, 1, size=(n, T))\n",
    "plt.plot(synthetic_returns[1, :])"
   ]
  },
  {
   "cell_type": "code",
   "execution_count": 145,
   "metadata": {},
   "outputs": [
    {
     "data": {
      "text/plain": [
       "array([[ 1.00000000e+00, -5.75371016e-04, -5.69548252e-03,\n",
       "        -7.80810741e-04, -8.39288155e-03,  4.51051579e-03,\n",
       "        -5.88881227e-04,  2.73857157e-03,  8.19602616e-03,\n",
       "         9.80533125e-03],\n",
       "       [-5.75371016e-04,  1.00000000e+00, -1.38505462e-03,\n",
       "        -1.20698534e-03, -1.04523888e-02, -6.72988272e-03,\n",
       "        -4.46649620e-03, -7.55568379e-03,  2.32229141e-03,\n",
       "        -3.76974511e-03],\n",
       "       [-5.69548252e-03, -1.38505462e-03,  1.00000000e+00,\n",
       "         1.68155568e-03,  8.70864065e-03,  4.25335502e-03,\n",
       "        -1.79227246e-02,  1.16397951e-04,  1.95588142e-03,\n",
       "        -1.17168228e-02],\n",
       "       [-7.80810741e-04, -1.20698534e-03,  1.68155568e-03,\n",
       "         1.00000000e+00, -2.05048237e-03,  1.37640270e-02,\n",
       "         8.07220270e-03, -7.93867691e-03,  3.51212660e-03,\n",
       "        -1.57419652e-02],\n",
       "       [-8.39288155e-03, -1.04523888e-02,  8.70864065e-03,\n",
       "        -2.05048237e-03,  1.00000000e+00, -1.90777841e-03,\n",
       "        -3.58545917e-03,  8.02159123e-03,  4.10228736e-03,\n",
       "         1.29086996e-02],\n",
       "       [ 4.51051579e-03, -6.72988272e-03,  4.25335502e-03,\n",
       "         1.37640270e-02, -1.90777841e-03,  1.00000000e+00,\n",
       "         1.95683544e-03, -6.59928077e-03,  2.63932449e-03,\n",
       "        -3.30809142e-03],\n",
       "       [-5.88881227e-04, -4.46649620e-03, -1.79227246e-02,\n",
       "         8.07220270e-03, -3.58545917e-03,  1.95683544e-03,\n",
       "         1.00000000e+00,  4.17730018e-03, -3.07723856e-03,\n",
       "         6.64729636e-03],\n",
       "       [ 2.73857157e-03, -7.55568379e-03,  1.16397951e-04,\n",
       "        -7.93867691e-03,  8.02159123e-03, -6.59928077e-03,\n",
       "         4.17730018e-03,  1.00000000e+00, -9.65905449e-03,\n",
       "         1.77513918e-03],\n",
       "       [ 8.19602616e-03,  2.32229141e-03,  1.95588142e-03,\n",
       "         3.51212660e-03,  4.10228736e-03,  2.63932449e-03,\n",
       "        -3.07723856e-03, -9.65905449e-03,  1.00000000e+00,\n",
       "        -1.25286345e-02],\n",
       "       [ 9.80533125e-03, -3.76974511e-03, -1.17168228e-02,\n",
       "        -1.57419652e-02,  1.29086996e-02, -3.30809142e-03,\n",
       "         6.64729636e-03,  1.77513918e-03, -1.25286345e-02,\n",
       "         1.00000000e+00]])"
      ]
     },
     "execution_count": 145,
     "metadata": {},
     "output_type": "execute_result"
    }
   ],
   "source": [
    "corr_coef = np.corrcoef(synthetic_returns)\n",
    "corr_coef"
   ]
  },
  {
   "cell_type": "code",
   "execution_count": 146,
   "metadata": {},
   "outputs": [],
   "source": [
    "emp_cov_mat = np.matmul(synthetic_returns, synthetic_returns.T)/T"
   ]
  },
  {
   "cell_type": "code",
   "execution_count": 147,
   "metadata": {},
   "outputs": [
    {
     "data": {
      "text/plain": [
       "array([1.03773457, 0.96487721, 1.02576893, 1.01729366, 1.00915175,\n",
       "       0.97774856, 0.98183837, 0.98741236, 0.99969043, 0.99848417])"
      ]
     },
     "execution_count": 147,
     "metadata": {},
     "output_type": "execute_result"
    }
   ],
   "source": [
    "np.linalg.eig(corr_coef)[0]"
   ]
  },
  {
   "cell_type": "code",
   "execution_count": 148,
   "metadata": {},
   "outputs": [],
   "source": [
    "def get_eig_val_dist(mu, sigma, n, T, it):\n",
    "    eigs = np.zeros(n * it)\n",
    "    for i in range(it):\n",
    "        synthetic_returns = np.random.normal(0, 0.04, size=(n, T))\n",
    "        corr_coef = np.corrcoef(synthetic_returns)\n",
    "        eig_vals = np.linalg.eig(corr_coef)[0]\n",
    "        eigs[i * n: i * n + n] = eig_vals\n",
    "    return eigs"
   ]
  },
  {
   "cell_type": "code",
   "execution_count": 149,
   "metadata": {},
   "outputs": [],
   "source": [
    "mu = 0\n",
    "sigma = 1\n",
    "all_eigs = get_eig_val_dist(mu, sigma, n, T, 10000)"
   ]
  },
  {
   "cell_type": "code",
   "execution_count": 150,
   "metadata": {},
   "outputs": [
    {
     "name": "stderr",
     "output_type": "stream",
     "text": [
      "C:\\Users\\markm\\.conda\\envs\\hft\\lib\\site-packages\\seaborn\\distributions.py:2551: FutureWarning: `distplot` is a deprecated function and will be removed in a future version. Please adapt your code to use either `displot` (a figure-level function with similar flexibility) or `histplot` (an axes-level function for histograms).\n",
      "  warnings.warn(msg, FutureWarning)\n"
     ]
    },
    {
     "data": {
      "text/plain": [
       "<AxesSubplot:ylabel='Density'>"
      ]
     },
     "execution_count": 150,
     "metadata": {},
     "output_type": "execute_result"
    },
    {
     "data": {
      "image/png": "[encoded data removed]",
      "text/plain": [
       "<Figure size 432x288 with 1 Axes>"
      ]
     },
     "metadata": {
      "needs_background": "light"
     },
     "output_type": "display_data"
    }
   ],
   "source": [
    "sns.distplot(all_eigs)"
   ]
  },
  {
   "cell_type": "code",
   "execution_count": 151,
   "metadata": {},
   "outputs": [],
   "source": [
    "def s0lam(lam, q):\n",
    "    lamplus = 1 + q + 2 * np.sqrt(q)\n",
    "    lamminus = 1 + q - 2 * np.sqrt(q)\n",
    "    # lambdas = lam[(lam> lamminus) & (lam < lamplus)]\n",
    "    lambdas = lam\n",
    "    print(lambdas)\n",
    "    print(f\"Lambda plus: {lamplus}\")\n",
    "    print(f\"Lambda minus: {lamminus}\")\n",
    "    return np.divide(1/q, 2 * np.pi) * np.divide(np.sqrt((lamplus - lambdas) * (lambdas - lamminus)), lambdas)\n",
    "    "
   ]
  },
  {
   "cell_type": "code",
   "execution_count": 152,
   "metadata": {},
   "outputs": [
    {
     "name": "stdout",
     "output_type": "stream",
     "text": [
      "[0.94243305 0.9486038  0.95477456 0.96094532 0.96711608 0.97328683\n",
      " 0.97945759 0.98562835 0.99179911 0.99796986 1.00414062 1.01031138\n",
      " 1.01648214 1.02265289 1.02882365 1.03499441 1.04116516 1.04733592\n",
      " 1.05350668 1.05967744]\n",
      "Lambda plus: 1.0467213548685033\n",
      "Lambda minus: 0.9543453117981632\n"
     ]
    },
    {
     "name": "stderr",
     "output_type": "stream",
     "text": [
      "<ipython-input-151-712435a1307d>:9: RuntimeWarning: invalid value encountered in sqrt\n",
      "  return np.divide(1/q, 2 * np.pi) * np.divide(np.sqrt((lamplus - lambdas) * (lambdas - lamminus)), lambdas)\n",
      "C:\\Users\\markm\\.conda\\envs\\hft\\lib\\site-packages\\seaborn\\distributions.py:2551: FutureWarning: `distplot` is a deprecated function and will be removed in a future version. Please adapt your code to use either `displot` (a figure-level function with similar flexibility) or `histplot` (an axes-level function for histograms).\n",
      "  warnings.warn(msg, FutureWarning)\n"
     ]
    },
    {
     "data": {
      "text/plain": [
       "<AxesSubplot:ylabel='Density'>"
      ]
     },
     "execution_count": 152,
     "metadata": {},
     "output_type": "execute_result"
    },
    {
     "data": {
      "image/png": "[encoded data removed]",
      "text/plain": [
       "<Figure size 432x288 with 1 Axes>"
      ]
     },
     "metadata": {
      "needs_background": "light"
     },
     "output_type": "display_data"
    }
   ],
   "source": [
    "grid = np.linspace(np.min(all_eigs), np.max(all_eigs), 20)\n",
    "plt.plot(grid, s0lam(grid, q))\n",
    "sns.distplot(all_eigs)"
   ]
  },
  {
   "cell_type": "code",
   "execution_count": 153,
   "metadata": {},
   "outputs": [],
   "source": [
    "grid = np.linspace(np.min(all_eigs), np.max(all_eigs), 20)"
   ]
  },
  {
   "cell_type": "code",
   "execution_count": 154,
   "metadata": {},
   "outputs": [
    {
     "name": "stdout",
     "output_type": "stream",
     "text": [
      "[0.94243305 0.9486038  0.95477456 0.96094532 0.96711608 0.97328683\n",
      " 0.97945759 0.98562835 0.99179911 0.99796986 1.00414062 1.01031138\n",
      " 1.01648214 1.02265289 1.02882365 1.03499441 1.04116516 1.04733592\n",
      " 1.05350668 1.05967744]\n",
      "Lambda plus: 1.0467213548685033\n",
      "Lambda minus: 0.9543453117981632\n"
     ]
    },
    {
     "name": "stderr",
     "output_type": "stream",
     "text": [
      "<ipython-input-151-712435a1307d>:9: RuntimeWarning: invalid value encountered in sqrt\n",
      "  return np.divide(1/q, 2 * np.pi) * np.divide(np.sqrt((lamplus - lambdas) * (lambdas - lamminus)), lambdas)\n"
     ]
    },
    {
     "data": {
      "text/plain": [
       "[<matplotlib.lines.Line2D at 0x24ce7ef61c0>]"
      ]
     },
     "execution_count": 154,
     "metadata": {},
     "output_type": "execute_result"
    },
    {
     "data": {
      "image/png": "[encoded data removed]",
      "text/plain": [
       "<Figure size 432x288 with 1 Axes>"
      ]
     },
     "metadata": {
      "needs_background": "light"
     },
     "output_type": "display_data"
    }
   ],
   "source": [
    "plt.plot(grid, s0lam(grid, q))"
   ]
  },
  {
   "cell_type": "code",
   "execution_count": null,
   "metadata": {},
   "outputs": [],
   "source": []
  }
 ],
 "metadata": {
  "kernelspec": {
   "display_name": "Python 3",
   "language": "python",
   "name": "python3"
  },
  "language_info": {
   "codemirror_mode": {
    "name": "ipython",
    "version": 3
   },
   "file_extension": ".py",
   "mimetype": "text/x-python",
   "name": "python",
   "nbconvert_exporter": "python",
   "pygments_lexer": "ipython3",
   "version": "3.8.5"
  }
 },
 "nbformat": 4,
 "nbformat_minor": 4
}
