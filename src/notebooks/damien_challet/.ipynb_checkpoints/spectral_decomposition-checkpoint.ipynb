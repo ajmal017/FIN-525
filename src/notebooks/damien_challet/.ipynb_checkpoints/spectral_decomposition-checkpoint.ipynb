{
 "cells": [
  {
   "cell_type": "markdown",
   "metadata": {},
   "source": [
    "# Spectral decomposition"
   ]
  },
  {
   "cell_type": "code",
   "execution_count": null,
   "metadata": {},
   "outputs": [],
   "source": [
    "\n",
    "# R: matrix of price returns (or of features)\n",
    "\n",
    "\n",
    "N=R.shape[1]\n",
    "T=R.shape[0]\n",
    "\n",
    "q=N*1./T\n",
    "lambda_plus=(1.+np.sqrt(q))**2\n",
    "\n",
    "C=R.corr()\n",
    "lambdas, v = LA.eigh(C)\n",
    "\n",
    "v_m=np.matrix(v)\n",
    "\n",
    "C_spectral_dec=np.zeros((N, N))\n",
    "\n",
    "for i in range(N):\n",
    "    C_spectral_dec += lambdas[i] * np.dot(v_m[i,].T,v_m[i,]) \n",
    "\n",
    "    \n",
    "    \n",
    "# C_spectral_dec  should be equal to C (up to small numerical imprecision)\n"
   ]
  }
 ],
 "metadata": {
  "kernelspec": {
   "display_name": "Python 3",
   "language": "python",
   "name": "python3"
  },
  "language_info": {
   "codemirror_mode": {
    "name": "ipython",
    "version": 3
   },
   "file_extension": ".py",
   "mimetype": "text/x-python",
   "name": "python",
   "nbconvert_exporter": "python",
   "pygments_lexer": "ipython3",
   "version": "3.7.4"
  }
 },
 "nbformat": 4,
 "nbformat_minor": 4
}
